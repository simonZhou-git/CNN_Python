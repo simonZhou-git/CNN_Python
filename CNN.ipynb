{
  "cells": [
    {
      "metadata": {
        "trusted": true
      },
      "cell_type": "code",
      "source": "from keras.layers import Conv2D, MaxPooling2D, Flatten, Dense\nfrom keras.models import Sequential\nfrom keras.datasets import mnist\nfrom keras.utils import to_categorical\nimport matplotlib.pyplot as plt\n%matplotlib inline",
      "execution_count": 1,
      "outputs": [
        {
          "output_type": "stream",
          "text": "Using TensorFlow backend.\n",
          "name": "stderr"
        }
      ]
    },
    {
      "metadata": {
        "trusted": true
      },
      "cell_type": "code",
      "source": "(x_train, y_train), (x_test, y_test) = mnist.load_data()",
      "execution_count": 2,
      "outputs": [
        {
          "output_type": "stream",
          "text": "Downloading data from https://s3.amazonaws.com/img-datasets/mnist.npz\n11493376/11490434 [==============================] - 3s 0us/step\n",
          "name": "stdout"
        }
      ]
    },
    {
      "metadata": {
        "trusted": true
      },
      "cell_type": "code",
      "source": "print(x_train.shape)\nprint(x_test.shape)\nprint(y_train.shape)\nprint(y_test.shape)\n#plt.imshow(x_train[0])\nplt.imshow(x_test[0])",
      "execution_count": 3,
      "outputs": [
        {
          "output_type": "stream",
          "text": "(60000, 28, 28)\n(10000, 28, 28)\n(60000,)\n(10000,)\n",
          "name": "stdout"
        },
        {
          "output_type": "execute_result",
          "execution_count": 3,
          "data": {
            "text/plain": "<matplotlib.image.AxesImage at 0x7f3b18056d68>"
          },
          "metadata": {}
        },
        {
          "output_type": "display_data",
          "data": {
            "image/png": "[encoded data removed]",
            "text/plain": "<Figure size 432x288 with 1 Axes>"
          },
          "metadata": {
            "needs_background": "light"
          }
        }
      ]
    },
    {
      "metadata": {
        "trusted": true
      },
      "cell_type": "code",
      "source": "num_class = 10\nepoch = 3\nx_train = x_train.reshape(60000,28,28,1)\nx_test = x_test.reshape(10000,28,28,1)\nx_train = x_train.astype('float32')\nx_test = x_test.astype('float32')\nx_train /= 255.0\nx_test /= 255.0\ny_train = to_categorical(y_train, num_class)\ny_test = to_categorical(y_test, num_class)\nprint(x_train.shape)\nprint(x_test.shape)\nprint(y_train.shape)\nprint(y_test.shape)",
      "execution_count": 4,
      "outputs": [
        {
          "output_type": "stream",
          "text": "(60000, 28, 28, 1)\n(10000, 28, 28, 1)\n(60000, 10)\n(10000, 10)\n",
          "name": "stdout"
        }
      ]
    },
    {
      "metadata": {
        "trusted": true
      },
      "cell_type": "code",
      "source": "cnn = Sequential()",
      "execution_count": 5,
      "outputs": []
    },
    {
      "metadata": {
        "trusted": true
      },
      "cell_type": "code",
      "source": "cnn.add(Conv2D(32, kernel_size = (5,5), input_shape = (28,28,1), padding = 'same', activation = 'relu'))",
      "execution_count": 6,
      "outputs": []
    },
    {
      "metadata": {
        "trusted": true
      },
      "cell_type": "code",
      "source": "cnn.add(MaxPooling2D())",
      "execution_count": 7,
      "outputs": []
    },
    {
      "metadata": {
        "trusted": true
      },
      "cell_type": "code",
      "source": "cnn.add(Conv2D(64, kernel_size = (5,5), padding = 'same', activation = 'relu'))",
      "execution_count": 8,
      "outputs": []
    },
    {
      "metadata": {
        "trusted": true
      },
      "cell_type": "code",
      "source": "cnn.add(MaxPooling2D())",
      "execution_count": 9,
      "outputs": []
    },
    {
      "metadata": {
        "trusted": true
      },
      "cell_type": "code",
      "source": "cnn.add(Flatten())",
      "execution_count": 10,
      "outputs": []
    },
    {
      "metadata": {
        "trusted": true
      },
      "cell_type": "code",
      "source": "cnn.add(Dense(1024, activation = 'relu'))",
      "execution_count": 11,
      "outputs": []
    },
    {
      "metadata": {
        "trusted": true
      },
      "cell_type": "code",
      "source": "cnn.add(Dense(10, activation = 'softmax'))",
      "execution_count": 12,
      "outputs": []
    },
    {
      "metadata": {
        "trusted": true
      },
      "cell_type": "code",
      "source": "cnn.compile(optimizer = 'adam', loss = 'categorical_crossentropy', metrics = ['accuracy'])",
      "execution_count": 13,
      "outputs": []
    },
    {
      "metadata": {
        "trusted": true
      },
      "cell_type": "code",
      "source": "print(cnn.summary())",
      "execution_count": 14,
      "outputs": [
        {
          "output_type": "stream",
          "text": "Model: \"sequential_1\"\n_________________________________________________________________\nLayer (type)                 Output Shape              Param #   \n=================================================================\nconv2d_1 (Conv2D)            (None, 28, 28, 32)        832       \n_________________________________________________________________\nmax_pooling2d_1 (MaxPooling2 (None, 14, 14, 32)        0         \n_________________________________________________________________\nconv2d_2 (Conv2D)            (None, 14, 14, 64)        51264     \n_________________________________________________________________\nmax_pooling2d_2 (MaxPooling2 (None, 7, 7, 64)          0         \n_________________________________________________________________\nflatten_1 (Flatten)          (None, 3136)              0         \n_________________________________________________________________\ndense_1 (Dense)              (None, 1024)              3212288   \n_________________________________________________________________\ndense_2 (Dense)              (None, 10)                10250     \n=================================================================\nTotal params: 3,274,634\nTrainable params: 3,274,634\nNon-trainable params: 0\n_________________________________________________________________\nNone\n",
          "name": "stdout"
        }
      ]
    },
    {
      "metadata": {
        "trusted": true
      },
      "cell_type": "code",
      "source": "fit_cnn = cnn.fit(x_train, y_train, epochs = 5, verbose = 1, validation_data = (x_test, y_test))",
      "execution_count": 15,
      "outputs": [
        {
          "output_type": "stream",
          "text": "Train on 60000 samples, validate on 10000 samples\nEpoch 1/5\n60000/60000 [==============================] - 742s 12ms/step - loss: 0.0959 - accuracy: 0.9701 - val_loss: 0.0431 - val_accuracy: 0.9870\nEpoch 2/5\n60000/60000 [==============================] - 694s 12ms/step - loss: 0.0362 - accuracy: 0.9894 - val_loss: 0.0329 - val_accuracy: 0.9886\nEpoch 3/5\n60000/60000 [==============================] - 678s 11ms/step - loss: 0.0246 - accuracy: 0.9924 - val_loss: 0.0286 - val_accuracy: 0.9914\nEpoch 4/5\n60000/60000 [==============================] - 663s 11ms/step - loss: 0.0173 - accuracy: 0.9944 - val_loss: 0.0326 - val_accuracy: 0.9906\nEpoch 5/5\n60000/60000 [==============================] - 656s 11ms/step - loss: 0.0155 - accuracy: 0.9950 - val_loss: 0.0266 - val_accuracy: 0.9918\n",
          "name": "stdout"
        }
      ]
    },
    {
      "metadata": {
        "trusted": true
      },
      "cell_type": "code",
      "source": "score = cnn.evaluate(x_test, y_test)",
      "execution_count": 16,
      "outputs": [
        {
          "output_type": "stream",
          "text": "10000/10000 [==============================] - 23s 2ms/step\n",
          "name": "stdout"
        }
      ]
    },
    {
      "metadata": {
        "trusted": true
      },
      "cell_type": "code",
      "source": "score",
      "execution_count": 17,
      "outputs": [
        {
          "output_type": "execute_result",
          "execution_count": 17,
          "data": {
            "text/plain": "[0.026624102969517463, 0.9918000102043152]"
          },
          "metadata": {}
        }
      ]
    },
    {
      "metadata": {
        "trusted": true
      },
      "cell_type": "code",
      "source": "",
      "execution_count": null,
      "outputs": []
    }
  ],
  "metadata": {
    "kernelspec": {
      "name": "python36",
      "display_name": "Python 3.6",
      "language": "python"
    },
    "language_info": {
      "mimetype": "text/x-python",
      "nbconvert_exporter": "python",
      "name": "python",
      "pygments_lexer": "ipython3",
      "version": "3.6.6",
      "file_extension": ".py",
      "codemirror_mode": {
        "version": 3,
        "name": "ipython"
      }
    }
  },
  "nbformat": 4,
  "nbformat_minor": 2
}