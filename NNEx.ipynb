{
  "cells": [
    {
      "metadata": {
        "trusted": true
      },
      "cell_type": "code",
      "source": "import numpy as np",
      "execution_count": 1,
      "outputs": []
    },
    {
      "metadata": {
        "trusted": true
      },
      "cell_type": "code",
      "source": "import tensorflow as tf",
      "execution_count": 2,
      "outputs": []
    },
    {
      "metadata": {
        "trusted": true
      },
      "cell_type": "code",
      "source": "from keras.datasets import mnist\nfrom keras.preprocessing.image import load_img, array_to_img\nfrom keras.utils.np_utils import to_categorical\nfrom keras.models import Sequential\nfrom keras.layers import Dense\n\nimport matplotlib.pyplot as plt\n%matplotlib inline",
      "execution_count": 3,
      "outputs": [
        {
          "output_type": "stream",
          "text": "Using TensorFlow backend.\n",
          "name": "stderr"
        }
      ]
    },
    {
      "metadata": {
        "trusted": true
      },
      "cell_type": "code",
      "source": "mnist.load_data()",
      "execution_count": 4,
      "outputs": [
        {
          "output_type": "stream",
          "text": "Downloading data from https://s3.amazonaws.com/img-datasets/mnist.npz\n11493376/11490434 [==============================] - 2s 0us/step\n",
          "name": "stdout"
        },
        {
          "output_type": "execute_result",
          "execution_count": 4,
          "data": {
            "text/plain": "((array([[[0, 0, 0, ..., 0, 0, 0],\n          [0, 0, 0, ..., 0, 0, 0],\n          [0, 0, 0, ..., 0, 0, 0],\n          ...,\n          [0, 0, 0, ..., 0, 0, 0],\n          [0, 0, 0, ..., 0, 0, 0],\n          [0, 0, 0, ..., 0, 0, 0]],\n  \n         [[0, 0, 0, ..., 0, 0, 0],\n          [0, 0, 0, ..., 0, 0, 0],\n          [0, 0, 0, ..., 0, 0, 0],\n          ...,\n          [0, 0, 0, ..., 0, 0, 0],\n          [0, 0, 0, ..., 0, 0, 0],\n          [0, 0, 0, ..., 0, 0, 0]],\n  \n         [[0, 0, 0, ..., 0, 0, 0],\n          [0, 0, 0, ..., 0, 0, 0],\n          [0, 0, 0, ..., 0, 0, 0],\n          ...,\n          [0, 0, 0, ..., 0, 0, 0],\n          [0, 0, 0, ..., 0, 0, 0],\n          [0, 0, 0, ..., 0, 0, 0]],\n  \n         ...,\n  \n         [[0, 0, 0, ..., 0, 0, 0],\n          [0, 0, 0, ..., 0, 0, 0],\n          [0, 0, 0, ..., 0, 0, 0],\n          ...,\n          [0, 0, 0, ..., 0, 0, 0],\n          [0, 0, 0, ..., 0, 0, 0],\n          [0, 0, 0, ..., 0, 0, 0]],\n  \n         [[0, 0, 0, ..., 0, 0, 0],\n          [0, 0, 0, ..., 0, 0, 0],\n          [0, 0, 0, ..., 0, 0, 0],\n          ...,\n          [0, 0, 0, ..., 0, 0, 0],\n          [0, 0, 0, ..., 0, 0, 0],\n          [0, 0, 0, ..., 0, 0, 0]],\n  \n         [[0, 0, 0, ..., 0, 0, 0],\n          [0, 0, 0, ..., 0, 0, 0],\n          [0, 0, 0, ..., 0, 0, 0],\n          ...,\n          [0, 0, 0, ..., 0, 0, 0],\n          [0, 0, 0, ..., 0, 0, 0],\n          [0, 0, 0, ..., 0, 0, 0]]], dtype=uint8),\n  array([5, 0, 4, ..., 5, 6, 8], dtype=uint8)),\n (array([[[0, 0, 0, ..., 0, 0, 0],\n          [0, 0, 0, ..., 0, 0, 0],\n          [0, 0, 0, ..., 0, 0, 0],\n          ...,\n          [0, 0, 0, ..., 0, 0, 0],\n          [0, 0, 0, ..., 0, 0, 0],\n          [0, 0, 0, ..., 0, 0, 0]],\n  \n         [[0, 0, 0, ..., 0, 0, 0],\n          [0, 0, 0, ..., 0, 0, 0],\n          [0, 0, 0, ..., 0, 0, 0],\n          ...,\n          [0, 0, 0, ..., 0, 0, 0],\n          [0, 0, 0, ..., 0, 0, 0],\n          [0, 0, 0, ..., 0, 0, 0]],\n  \n         [[0, 0, 0, ..., 0, 0, 0],\n          [0, 0, 0, ..., 0, 0, 0],\n          [0, 0, 0, ..., 0, 0, 0],\n          ...,\n          [0, 0, 0, ..., 0, 0, 0],\n          [0, 0, 0, ..., 0, 0, 0],\n          [0, 0, 0, ..., 0, 0, 0]],\n  \n         ...,\n  \n         [[0, 0, 0, ..., 0, 0, 0],\n          [0, 0, 0, ..., 0, 0, 0],\n          [0, 0, 0, ..., 0, 0, 0],\n          ...,\n          [0, 0, 0, ..., 0, 0, 0],\n          [0, 0, 0, ..., 0, 0, 0],\n          [0, 0, 0, ..., 0, 0, 0]],\n  \n         [[0, 0, 0, ..., 0, 0, 0],\n          [0, 0, 0, ..., 0, 0, 0],\n          [0, 0, 0, ..., 0, 0, 0],\n          ...,\n          [0, 0, 0, ..., 0, 0, 0],\n          [0, 0, 0, ..., 0, 0, 0],\n          [0, 0, 0, ..., 0, 0, 0]],\n  \n         [[0, 0, 0, ..., 0, 0, 0],\n          [0, 0, 0, ..., 0, 0, 0],\n          [0, 0, 0, ..., 0, 0, 0],\n          ...,\n          [0, 0, 0, ..., 0, 0, 0],\n          [0, 0, 0, ..., 0, 0, 0],\n          [0, 0, 0, ..., 0, 0, 0]]], dtype=uint8),\n  array([7, 2, 1, ..., 4, 5, 6], dtype=uint8)))"
          },
          "metadata": {}
        }
      ]
    },
    {
      "metadata": {
        "trusted": true
      },
      "cell_type": "code",
      "source": "(x_train, y_train_original), (x_test, y_test_original) = mnist.load_data()",
      "execution_count": 5,
      "outputs": []
    },
    {
      "metadata": {
        "trusted": true
      },
      "cell_type": "code",
      "source": "print(x_train.shape)",
      "execution_count": 6,
      "outputs": [
        {
          "output_type": "stream",
          "text": "(60000, 28, 28)\n",
          "name": "stdout"
        }
      ]
    },
    {
      "metadata": {
        "trusted": true
      },
      "cell_type": "code",
      "source": "print(y_train_original.shape)",
      "execution_count": 7,
      "outputs": [
        {
          "output_type": "stream",
          "text": "(60000,)\n",
          "name": "stdout"
        }
      ]
    },
    {
      "metadata": {
        "trusted": true
      },
      "cell_type": "code",
      "source": "x_train[0].shape",
      "execution_count": 8,
      "outputs": [
        {
          "output_type": "execute_result",
          "execution_count": 8,
          "data": {
            "text/plain": "(28, 28)"
          },
          "metadata": {}
        }
      ]
    },
    {
      "metadata": {
        "trusted": true
      },
      "cell_type": "code",
      "source": "plt.imshow(x_train[1], cmap = 'gray')",
      "execution_count": 10,
      "outputs": [
        {
          "output_type": "execute_result",
          "execution_count": 10,
          "data": {
            "text/plain": "<matplotlib.image.AxesImage at 0x7feabd7b1828>"
          },
          "metadata": {}
        },
        {
          "output_type": "display_data",
          "data": {
            "image/png": "[encoded data removed]",
            "text/plain": "<Figure size 432x288 with 1 Axes>"
          },
          "metadata": {
            "needs_background": "light"
          }
        }
      ]
    },
    {
      "metadata": {
        "trusted": true
      },
      "cell_type": "code",
      "source": "y_train_original[1]",
      "execution_count": 11,
      "outputs": [
        {
          "output_type": "execute_result",
          "execution_count": 11,
          "data": {
            "text/plain": "0"
          },
          "metadata": {}
        }
      ]
    },
    {
      "metadata": {
        "trusted": true
      },
      "cell_type": "code",
      "source": "image_weight = 28\nimage_height = 28",
      "execution_count": 12,
      "outputs": []
    },
    {
      "metadata": {
        "trusted": true
      },
      "cell_type": "code",
      "source": "x_train = x_train.reshape(60000, image_weight * image_height)\nx_test = x_test.reshape(10000, image_weight * image_height)\nprint(x_train.shape)\nprint(x_test.shape)",
      "execution_count": 13,
      "outputs": [
        {
          "output_type": "stream",
          "text": "(60000, 784)\n(10000, 784)\n",
          "name": "stdout"
        }
      ]
    },
    {
      "metadata": {
        "trusted": true
      },
      "cell_type": "code",
      "source": "print(x_train[0])",
      "execution_count": 14,
      "outputs": [
        {
          "output_type": "stream",
          "text": "[  0   0   0   0   0   0   0   0   0   0   0   0   0   0   0   0   0   0\n   0   0   0   0   0   0   0   0   0   0   0   0   0   0   0   0   0   0\n   0   0   0   0   0   0   0   0   0   0   0   0   0   0   0   0   0   0\n   0   0   0   0   0   0   0   0   0   0   0   0   0   0   0   0   0   0\n   0   0   0   0   0   0   0   0   0   0   0   0   0   0   0   0   0   0\n   0   0   0   0   0   0   0   0   0   0   0   0   0   0   0   0   0   0\n   0   0   0   0   0   0   0   0   0   0   0   0   0   0   0   0   0   0\n   0   0   0   0   0   0   0   0   0   0   0   0   0   0   0   0   0   0\n   0   0   0   0   0   0   0   0   3  18  18  18 126 136 175  26 166 255\n 247 127   0   0   0   0   0   0   0   0   0   0   0   0  30  36  94 154\n 170 253 253 253 253 253 225 172 253 242 195  64   0   0   0   0   0   0\n   0   0   0   0   0  49 238 253 253 253 253 253 253 253 253 251  93  82\n  82  56  39   0   0   0   0   0   0   0   0   0   0   0   0  18 219 253\n 253 253 253 253 198 182 247 241   0   0   0   0   0   0   0   0   0   0\n   0   0   0   0   0   0   0   0  80 156 107 253 253 205  11   0  43 154\n   0   0   0   0   0   0   0   0   0   0   0   0   0   0   0   0   0   0\n   0  14   1 154 253  90   0   0   0   0   0   0   0   0   0   0   0   0\n   0   0   0   0   0   0   0   0   0   0   0   0   0 139 253 190   2   0\n   0   0   0   0   0   0   0   0   0   0   0   0   0   0   0   0   0   0\n   0   0   0   0   0  11 190 253  70   0   0   0   0   0   0   0   0   0\n   0   0   0   0   0   0   0   0   0   0   0   0   0   0   0   0  35 241\n 225 160 108   1   0   0   0   0   0   0   0   0   0   0   0   0   0   0\n   0   0   0   0   0   0   0   0   0  81 240 253 253 119  25   0   0   0\n   0   0   0   0   0   0   0   0   0   0   0   0   0   0   0   0   0   0\n   0   0  45 186 253 253 150  27   0   0   0   0   0   0   0   0   0   0\n   0   0   0   0   0   0   0   0   0   0   0   0   0  16  93 252 253 187\n   0   0   0   0   0   0   0   0   0   0   0   0   0   0   0   0   0   0\n   0   0   0   0   0   0   0 249 253 249  64   0   0   0   0   0   0   0\n   0   0   0   0   0   0   0   0   0   0   0   0   0   0  46 130 183 253\n 253 207   2   0   0   0   0   0   0   0   0   0   0   0   0   0   0   0\n   0   0   0   0  39 148 229 253 253 253 250 182   0   0   0   0   0   0\n   0   0   0   0   0   0   0   0   0   0   0   0  24 114 221 253 253 253\n 253 201  78   0   0   0   0   0   0   0   0   0   0   0   0   0   0   0\n   0   0  23  66 213 253 253 253 253 198  81   2   0   0   0   0   0   0\n   0   0   0   0   0   0   0   0   0   0  18 171 219 253 253 253 253 195\n  80   9   0   0   0   0   0   0   0   0   0   0   0   0   0   0   0   0\n  55 172 226 253 253 253 253 244 133  11   0   0   0   0   0   0   0   0\n   0   0   0   0   0   0   0   0   0   0 136 253 253 253 212 135 132  16\n   0   0   0   0   0   0   0   0   0   0   0   0   0   0   0   0   0   0\n   0   0   0   0   0   0   0   0   0   0   0   0   0   0   0   0   0   0\n   0   0   0   0   0   0   0   0   0   0   0   0   0   0   0   0   0   0\n   0   0   0   0   0   0   0   0   0   0   0   0   0   0   0   0   0   0\n   0   0   0   0   0   0   0   0   0   0   0   0   0   0   0   0   0   0\n   0   0   0   0   0   0   0   0   0   0]\n",
          "name": "stdout"
        }
      ]
    },
    {
      "metadata": {
        "trusted": true
      },
      "cell_type": "code",
      "source": "x_train = x_train.astype('float32')\nx_test = x_test.astype('float32')\nx_train /= 255.0\nx_test /= 255.0\nprint(x_train[0])",
      "execution_count": 15,
      "outputs": [
        {
          "output_type": "stream",
          "text": "[0.         0.         0.         0.         0.         0.\n 0.         0.         0.         0.         0.         0.\n 0.         0.         0.         0.         0.         0.\n 0.         0.         0.         0.         0.         0.\n 0.         0.         0.         0.         0.         0.\n 0.         0.         0.         0.         0.         0.\n 0.         0.         0.         0.         0.         0.\n 0.         0.         0.         0.         0.         0.\n 0.         0.         0.         0.         0.         0.\n 0.         0.         0.         0.         0.         0.\n 0.         0.         0.         0.         0.         0.\n 0.         0.         0.         0.         0.         0.\n 0.         0.         0.         0.         0.         0.\n 0.         0.         0.         0.         0.         0.\n 0.         0.         0.         0.         0.         0.\n 0.         0.         0.         0.         0.         0.\n 0.         0.         0.         0.         0.         0.\n 0.         0.         0.         0.         0.         0.\n 0.         0.         0.         0.         0.         0.\n 0.         0.         0.         0.         0.         0.\n 0.         0.         0.         0.         0.         0.\n 0.         0.         0.         0.         0.         0.\n 0.         0.         0.         0.         0.         0.\n 0.         0.         0.         0.         0.         0.\n 0.         0.         0.         0.         0.         0.\n 0.         0.         0.01176471 0.07058824 0.07058824 0.07058824\n 0.49411765 0.53333336 0.6862745  0.10196079 0.6509804  1.\n 0.96862745 0.49803922 0.         0.         0.         0.\n 0.         0.         0.         0.         0.         0.\n 0.         0.         0.11764706 0.14117648 0.36862746 0.6039216\n 0.6666667  0.99215686 0.99215686 0.99215686 0.99215686 0.99215686\n 0.88235295 0.6745098  0.99215686 0.9490196  0.7647059  0.2509804\n 0.         0.         0.         0.         0.         0.\n 0.         0.         0.         0.         0.         0.19215687\n 0.93333334 0.99215686 0.99215686 0.99215686 0.99215686 0.99215686\n 0.99215686 0.99215686 0.99215686 0.9843137  0.3647059  0.32156864\n 0.32156864 0.21960784 0.15294118 0.         0.         0.\n 0.         0.         0.         0.         0.         0.\n 0.         0.         0.         0.07058824 0.85882354 0.99215686\n 0.99215686 0.99215686 0.99215686 0.99215686 0.7764706  0.7137255\n 0.96862745 0.94509804 0.         0.         0.         0.\n 0.         0.         0.         0.         0.         0.\n 0.         0.         0.         0.         0.         0.\n 0.         0.         0.3137255  0.6117647  0.41960785 0.99215686\n 0.99215686 0.8039216  0.04313726 0.         0.16862746 0.6039216\n 0.         0.         0.         0.         0.         0.\n 0.         0.         0.         0.         0.         0.\n 0.         0.         0.         0.         0.         0.\n 0.         0.05490196 0.00392157 0.6039216  0.99215686 0.3529412\n 0.         0.         0.         0.         0.         0.\n 0.         0.         0.         0.         0.         0.\n 0.         0.         0.         0.         0.         0.\n 0.         0.         0.         0.         0.         0.\n 0.         0.54509807 0.99215686 0.74509805 0.00784314 0.\n 0.         0.         0.         0.         0.         0.\n 0.         0.         0.         0.         0.         0.\n 0.         0.         0.         0.         0.         0.\n 0.         0.         0.         0.         0.         0.04313726\n 0.74509805 0.99215686 0.27450982 0.         0.         0.\n 0.         0.         0.         0.         0.         0.\n 0.         0.         0.         0.         0.         0.\n 0.         0.         0.         0.         0.         0.\n 0.         0.         0.         0.         0.13725491 0.94509804\n 0.88235295 0.627451   0.42352942 0.00392157 0.         0.\n 0.         0.         0.         0.         0.         0.\n 0.         0.         0.         0.         0.         0.\n 0.         0.         0.         0.         0.         0.\n 0.         0.         0.         0.31764707 0.9411765  0.99215686\n 0.99215686 0.46666667 0.09803922 0.         0.         0.\n 0.         0.         0.         0.         0.         0.\n 0.         0.         0.         0.         0.         0.\n 0.         0.         0.         0.         0.         0.\n 0.         0.         0.1764706  0.7294118  0.99215686 0.99215686\n 0.5882353  0.10588235 0.         0.         0.         0.\n 0.         0.         0.         0.         0.         0.\n 0.         0.         0.         0.         0.         0.\n 0.         0.         0.         0.         0.         0.\n 0.         0.0627451  0.3647059  0.9882353  0.99215686 0.73333335\n 0.         0.         0.         0.         0.         0.\n 0.         0.         0.         0.         0.         0.\n 0.         0.         0.         0.         0.         0.\n 0.         0.         0.         0.         0.         0.\n 0.         0.9764706  0.99215686 0.9764706  0.2509804  0.\n 0.         0.         0.         0.         0.         0.\n 0.         0.         0.         0.         0.         0.\n 0.         0.         0.         0.         0.         0.\n 0.         0.         0.18039216 0.50980395 0.7176471  0.99215686\n 0.99215686 0.8117647  0.00784314 0.         0.         0.\n 0.         0.         0.         0.         0.         0.\n 0.         0.         0.         0.         0.         0.\n 0.         0.         0.         0.         0.15294118 0.5803922\n 0.8980392  0.99215686 0.99215686 0.99215686 0.98039216 0.7137255\n 0.         0.         0.         0.         0.         0.\n 0.         0.         0.         0.         0.         0.\n 0.         0.         0.         0.         0.         0.\n 0.09411765 0.44705883 0.8666667  0.99215686 0.99215686 0.99215686\n 0.99215686 0.7882353  0.30588236 0.         0.         0.\n 0.         0.         0.         0.         0.         0.\n 0.         0.         0.         0.         0.         0.\n 0.         0.         0.09019608 0.25882354 0.8352941  0.99215686\n 0.99215686 0.99215686 0.99215686 0.7764706  0.31764707 0.00784314\n 0.         0.         0.         0.         0.         0.\n 0.         0.         0.         0.         0.         0.\n 0.         0.         0.         0.         0.07058824 0.67058825\n 0.85882354 0.99215686 0.99215686 0.99215686 0.99215686 0.7647059\n 0.3137255  0.03529412 0.         0.         0.         0.\n 0.         0.         0.         0.         0.         0.\n 0.         0.         0.         0.         0.         0.\n 0.21568628 0.6745098  0.8862745  0.99215686 0.99215686 0.99215686\n 0.99215686 0.95686275 0.52156866 0.04313726 0.         0.\n 0.         0.         0.         0.         0.         0.\n 0.         0.         0.         0.         0.         0.\n 0.         0.         0.         0.         0.53333336 0.99215686\n 0.99215686 0.99215686 0.83137256 0.5294118  0.5176471  0.0627451\n 0.         0.         0.         0.         0.         0.\n 0.         0.         0.         0.         0.         0.\n 0.         0.         0.         0.         0.         0.\n 0.         0.         0.         0.         0.         0.\n 0.         0.         0.         0.         0.         0.\n 0.         0.         0.         0.         0.         0.\n 0.         0.         0.         0.         0.         0.\n 0.         0.         0.         0.         0.         0.\n 0.         0.         0.         0.         0.         0.\n 0.         0.         0.         0.         0.         0.\n 0.         0.         0.         0.         0.         0.\n 0.         0.         0.         0.         0.         0.\n 0.         0.         0.         0.         0.         0.\n 0.         0.         0.         0.         0.         0.\n 0.         0.         0.         0.         0.         0.\n 0.         0.         0.         0.         0.         0.\n 0.         0.         0.         0.        ]\n",
          "name": "stdout"
        }
      ]
    },
    {
      "metadata": {
        "trusted": true
      },
      "cell_type": "code",
      "source": "print(y_train_original.shape)\nprint(y_test_original.shape)",
      "execution_count": 16,
      "outputs": [
        {
          "output_type": "stream",
          "text": "(60000,)\n(10000,)\n",
          "name": "stdout"
        }
      ]
    },
    {
      "metadata": {
        "trusted": true
      },
      "cell_type": "code",
      "source": "y_train = to_categorical(y_train_original, 10)\ny_test = to_categorical(y_test_original, 10)\nprint(y_train.shape)\nprint(y_test.shape)",
      "execution_count": 17,
      "outputs": [
        {
          "output_type": "stream",
          "text": "(60000, 10)\n(10000, 10)\n",
          "name": "stdout"
        }
      ]
    },
    {
      "metadata": {
        "trusted": true
      },
      "cell_type": "code",
      "source": "model = Sequential()",
      "execution_count": 18,
      "outputs": []
    },
    {
      "metadata": {
        "trusted": true
      },
      "cell_type": "code",
      "source": "model.add(Dense(512, activation = 'relu', input_shape = (784,)))\nmodel.add(Dense(512, activation = 'relu'))\nmodel.add(Dense(10, activation = 'softmax'))\n",
      "execution_count": 19,
      "outputs": []
    },
    {
      "metadata": {
        "trusted": true
      },
      "cell_type": "code",
      "source": "model.compile(optimizer = 'adam', loss = 'categorical_crossentropy', metrics = ['accuracy'])\nmodel.summary()",
      "execution_count": 20,
      "outputs": [
        {
          "output_type": "stream",
          "text": "Model: \"sequential_1\"\n_________________________________________________________________\nLayer (type)                 Output Shape              Param #   \n=================================================================\ndense_1 (Dense)              (None, 512)               401920    \n_________________________________________________________________\ndense_2 (Dense)              (None, 512)               262656    \n_________________________________________________________________\ndense_3 (Dense)              (None, 10)                5130      \n=================================================================\nTotal params: 669,706\nTrainable params: 669,706\nNon-trainable params: 0\n_________________________________________________________________\n",
          "name": "stdout"
        }
      ]
    },
    {
      "metadata": {
        "trusted": true
      },
      "cell_type": "code",
      "source": "784*512+512",
      "execution_count": 21,
      "outputs": [
        {
          "output_type": "execute_result",
          "execution_count": 21,
          "data": {
            "text/plain": "401920"
          },
          "metadata": {}
        }
      ]
    },
    {
      "metadata": {
        "trusted": true
      },
      "cell_type": "code",
      "source": "512*512+512",
      "execution_count": 22,
      "outputs": [
        {
          "output_type": "execute_result",
          "execution_count": 22,
          "data": {
            "text/plain": "262656"
          },
          "metadata": {}
        }
      ]
    },
    {
      "metadata": {
        "trusted": true
      },
      "cell_type": "code",
      "source": "10*512+10",
      "execution_count": 23,
      "outputs": [
        {
          "output_type": "execute_result",
          "execution_count": 23,
          "data": {
            "text/plain": "5130"
          },
          "metadata": {}
        }
      ]
    },
    {
      "metadata": {
        "trusted": true
      },
      "cell_type": "code",
      "source": "fit = model.fit(x_train, y_train, epochs = 26, validation_data = (x_test, y_test))",
      "execution_count": 24,
      "outputs": [
        {
          "output_type": "stream",
          "text": "Train on 60000 samples, validate on 10000 samples\nEpoch 1/26\n60000/60000 [==============================] - 75s 1ms/step - loss: 0.1830 - accuracy: 0.9440 - val_loss: 0.1282 - val_accuracy: 0.9611\nEpoch 2/26\n60000/60000 [==============================] - 67s 1ms/step - loss: 0.0808 - accuracy: 0.9749 - val_loss: 0.0813 - val_accuracy: 0.9749\nEpoch 3/26\n60000/60000 [==============================] - 73s 1ms/step - loss: 0.0568 - accuracy: 0.9820 - val_loss: 0.0942 - val_accuracy: 0.9730\nEpoch 4/26\n60000/60000 [==============================] - 96s 2ms/step - loss: 0.0420 - accuracy: 0.9868 - val_loss: 0.0740 - val_accuracy: 0.9776\nEpoch 5/26\n60000/60000 [==============================] - 76s 1ms/step - loss: 0.0355 - accuracy: 0.9886 - val_loss: 0.0711 - val_accuracy: 0.9802\nEpoch 6/26\n60000/60000 [==============================] - 88s 1ms/step - loss: 0.0260 - accuracy: 0.9919 - val_loss: 0.0662 - val_accuracy: 0.9836\nEpoch 7/26\n60000/60000 [==============================] - 73s 1ms/step - loss: 0.0273 - accuracy: 0.9913 - val_loss: 0.0798 - val_accuracy: 0.9792\nEpoch 8/26\n60000/60000 [==============================] - 77s 1ms/step - loss: 0.0234 - accuracy: 0.9928 - val_loss: 0.0839 - val_accuracy: 0.9809\nEpoch 9/26\n60000/60000 [==============================] - 76s 1ms/step - loss: 0.0202 - accuracy: 0.9937 - val_loss: 0.0999 - val_accuracy: 0.9774\nEpoch 10/26\n60000/60000 [==============================] - 71s 1ms/step - loss: 0.0187 - accuracy: 0.9947 - val_loss: 0.0960 - val_accuracy: 0.9799\nEpoch 11/26\n60000/60000 [==============================] - 78s 1ms/step - loss: 0.0158 - accuracy: 0.9952 - val_loss: 0.1065 - val_accuracy: 0.9814\nEpoch 12/26\n60000/60000 [==============================] - 75s 1ms/step - loss: 0.0169 - accuracy: 0.9950 - val_loss: 0.0992 - val_accuracy: 0.9805\nEpoch 13/26\n60000/60000 [==============================] - 70s 1ms/step - loss: 0.0169 - accuracy: 0.9949 - val_loss: 0.1128 - val_accuracy: 0.9820\nEpoch 14/26\n60000/60000 [==============================] - 70s 1ms/step - loss: 0.0134 - accuracy: 0.9958 - val_loss: 0.1230 - val_accuracy: 0.9788\nEpoch 15/26\n60000/60000 [==============================] - 74s 1ms/step - loss: 0.0137 - accuracy: 0.9963 - val_loss: 0.1447 - val_accuracy: 0.9766\nEpoch 16/26\n60000/60000 [==============================] - 75s 1ms/step - loss: 0.0153 - accuracy: 0.9961 - val_loss: 0.1224 - val_accuracy: 0.9814\nEpoch 17/26\n60000/60000 [==============================] - 80s 1ms/step - loss: 0.0163 - accuracy: 0.9963 - val_loss: 0.1194 - val_accuracy: 0.9808\nEpoch 18/26\n60000/60000 [==============================] - 78s 1ms/step - loss: 0.0106 - accuracy: 0.9967 - val_loss: 0.1129 - val_accuracy: 0.9828\nEpoch 19/26\n60000/60000 [==============================] - 86s 1ms/step - loss: 0.0148 - accuracy: 0.9962 - val_loss: 0.1364 - val_accuracy: 0.9821\nEpoch 20/26\n60000/60000 [==============================] - 80s 1ms/step - loss: 0.0121 - accuracy: 0.9969 - val_loss: 0.1138 - val_accuracy: 0.9834\nEpoch 21/26\n60000/60000 [==============================] - 78s 1ms/step - loss: 0.0132 - accuracy: 0.9969 - val_loss: 0.1296 - val_accuracy: 0.9815\nEpoch 22/26\n60000/60000 [==============================] - 78s 1ms/step - loss: 0.0129 - accuracy: 0.9972 - val_loss: 0.1664 - val_accuracy: 0.9811\nEpoch 23/26\n60000/60000 [==============================] - 69s 1ms/step - loss: 0.0089 - accuracy: 0.9976 - val_loss: 0.1278 - val_accuracy: 0.9818\nEpoch 24/26\n60000/60000 [==============================] - 78s 1ms/step - loss: 0.0130 - accuracy: 0.9969 - val_loss: 0.1556 - val_accuracy: 0.9810\nEpoch 25/26\n60000/60000 [==============================] - 75s 1ms/step - loss: 0.0125 - accuracy: 0.9971 - val_loss: 0.1563 - val_accuracy: 0.9829\nEpoch 26/26\n60000/60000 [==============================] - 72s 1ms/step - loss: 0.0102 - accuracy: 0.9976 - val_loss: 0.1572 - val_accuracy: 0.9829\n",
          "name": "stdout"
        }
      ]
    },
    {
      "metadata": {
        "trusted": true
      },
      "cell_type": "code",
      "source": "plt.plot(fit.history['accuracy'])",
      "execution_count": 25,
      "outputs": [
        {
          "output_type": "execute_result",
          "execution_count": 25,
          "data": {
            "text/plain": "[<matplotlib.lines.Line2D at 0x7feab7fd5438>]"
          },
          "metadata": {}
        },
        {
          "output_type": "display_data",
          "data": {
            "image/png": "[encoded data removed]",
            "text/plain": "<Figure size 432x288 with 1 Axes>"
          },
          "metadata": {
            "needs_background": "light"
          }
        }
      ]
    },
    {
      "metadata": {
        "trusted": true
      },
      "cell_type": "code",
      "source": "score = model.evaluate(x_test, y_test)",
      "execution_count": 26,
      "outputs": [
        {
          "output_type": "stream",
          "text": "10000/10000 [==============================] - 3s 259us/step\n",
          "name": "stdout"
        }
      ]
    },
    {
      "metadata": {
        "trusted": true
      },
      "cell_type": "code",
      "source": "score",
      "execution_count": 27,
      "outputs": [
        {
          "output_type": "execute_result",
          "execution_count": 27,
          "data": {
            "text/plain": "[0.15720269676821602, 0.9829000234603882]"
          },
          "metadata": {}
        }
      ]
    },
    {
      "metadata": {
        "trusted": true
      },
      "cell_type": "code",
      "source": "",
      "execution_count": null,
      "outputs": []
    }
  ],
  "metadata": {
    "kernelspec": {
      "name": "python36",
      "display_name": "Python 3.6",
      "language": "python"
    },
    "language_info": {
      "mimetype": "text/x-python",
      "nbconvert_exporter": "python",
      "name": "python",
      "pygments_lexer": "ipython3",
      "version": "3.6.6",
      "file_extension": ".py",
      "codemirror_mode": {
        "version": 3,
        "name": "ipython"
      }
    }
  },
  "nbformat": 4,
  "nbformat_minor": 1
}